{
 "cells": [
  {
   "cell_type": "code",
   "execution_count": 7,
   "metadata": {
    "collapsed": false
   },
   "outputs": [
    {
     "ename": "ImportError",
     "evalue": "No module named contentstore.views.course",
     "output_type": "error",
     "traceback": [
      "\u001b[1;31m---------------------------------------------------------------------------\u001b[0m",
      "\u001b[1;31mImportError\u001b[0m                               Traceback (most recent call last)",
      "\u001b[1;32m<ipython-input-7-9078b011e2cd>\u001b[0m in \u001b[0;36m<module>\u001b[1;34m()\u001b[0m\n\u001b[0;32m      1\u001b[0m \u001b[1;31m#https://github.com/edx/edx-platform/blob/master/cms%2Fdjangoapps%2Fcontentstore%2Fmanagement%2Fcommands%2Fcreate_course.py\u001b[0m\u001b[1;33m\u001b[0m\u001b[1;33m\u001b[0m\u001b[0m\n\u001b[0;32m      2\u001b[0m \u001b[1;32mfrom\u001b[0m \u001b[0mxmodule\u001b[0m\u001b[1;33m.\u001b[0m\u001b[0mmodulestore\u001b[0m \u001b[1;32mimport\u001b[0m \u001b[0mModuleStoreEnum\u001b[0m\u001b[1;33m\u001b[0m\u001b[0m\n\u001b[1;32m----> 3\u001b[1;33m \u001b[1;32mfrom\u001b[0m \u001b[0mcontentstore\u001b[0m\u001b[1;33m.\u001b[0m\u001b[0mviews\u001b[0m\u001b[1;33m.\u001b[0m\u001b[0mcourse\u001b[0m \u001b[1;32mimport\u001b[0m \u001b[0mcreate_new_course_in_store\u001b[0m\u001b[1;33m\u001b[0m\u001b[0m\n\u001b[0m\u001b[0;32m      4\u001b[0m \u001b[1;32mfrom\u001b[0m \u001b[0mcontentstore\u001b[0m\u001b[1;33m.\u001b[0m\u001b[0mmanagement\u001b[0m\u001b[1;33m.\u001b[0m\u001b[0mcommands\u001b[0m\u001b[1;33m.\u001b[0m\u001b[0mutils\u001b[0m \u001b[1;32mimport\u001b[0m \u001b[0muser_from_str\u001b[0m\u001b[1;33m\u001b[0m\u001b[0m\n",
      "\u001b[1;31mImportError\u001b[0m: No module named contentstore.views.course"
     ]
    }
   ],
   "source": [
    "#https://github.com/edx/edx-platform/blob/master/cms%2Fdjangoapps%2Fcontentstore%2Fmanagement%2Fcommands%2Fcreate_course.py\n",
    "#from xmodule.modulestore import ModuleStoreEnum\n",
    "#from contentstore.views.course import create_new_course_in_store\n",
    "#from contentstore.management.commands.utils import user_from_str"
   ]
  },
  {
   "cell_type": "code",
   "execution_count": 8,
   "metadata": {
    "collapsed": false
   },
   "outputs": [
    {
     "ename": "ImportError",
     "evalue": "No module named contentstore.views.course",
     "output_type": "error",
     "traceback": [
      "\u001b[1;31m---------------------------------------------------------------------------\u001b[0m",
      "\u001b[1;31mImportError\u001b[0m                               Traceback (most recent call last)",
      "\u001b[1;32m<ipython-input-8-a5022889f10e>\u001b[0m in \u001b[0;36m<module>\u001b[1;34m()\u001b[0m\n\u001b[1;32m----> 1\u001b[1;33m \u001b[1;32mfrom\u001b[0m \u001b[0mcontentstore\u001b[0m\u001b[1;33m.\u001b[0m\u001b[0mviews\u001b[0m\u001b[1;33m.\u001b[0m\u001b[0mcourse\u001b[0m \u001b[1;32mimport\u001b[0m \u001b[0mcreate_new_course_in_store\u001b[0m\u001b[1;33m\u001b[0m\u001b[0m\n\u001b[0m",
      "\u001b[1;31mImportError\u001b[0m: No module named contentstore.views.course"
     ]
    }
   ],
   "source": [
    "from contentstore.views.course import create_new_course_in_store\n"
   ]
  },
  {
   "cell_type": "code",
   "execution_count": 9,
   "metadata": {
    "collapsed": false
   },
   "outputs": [
    {
     "data": {
      "text/plain": [
       "['AIClassifier',\n",
       " 'AIClassifierSet',\n",
       " 'AIGradingWorkflow',\n",
       " 'AITrainingWorkflow',\n",
       " 'AccessToken',\n",
       " 'AnonymousUserId',\n",
       " 'Article',\n",
       " 'ArticleForObject',\n",
       " 'ArticlePlugin',\n",
       " 'ArticleRevision',\n",
       " 'ArticleSubscription',\n",
       " 'Assessment',\n",
       " 'AssessmentFeedback',\n",
       " 'AssessmentFeedbackOption',\n",
       " 'AssessmentPart',\n",
       " 'AssessmentWorkflow',\n",
       " 'AssessmentWorkflowCancellation',\n",
       " 'AssessmentWorkflowStep',\n",
       " 'Association',\n",
       " 'Avg',\n",
       " 'BadgeAssertion',\n",
       " 'BadgeImageConfiguration',\n",
       " 'BrandingApiConfig',\n",
       " 'BrandingInfoConfig',\n",
       " 'CertificateGenerationConfiguration',\n",
       " 'CertificateGenerationCourseSetting',\n",
       " 'CertificateHtmlViewConfiguration',\n",
       " 'CertificateItem',\n",
       " 'CertificateWhitelist',\n",
       " 'Client',\n",
       " 'ContentType',\n",
       " 'CorsModel',\n",
       " 'Count',\n",
       " 'Country',\n",
       " 'CountryAccessRule',\n",
       " 'Coupon',\n",
       " 'CouponRedemption',\n",
       " 'CourseAccessRole',\n",
       " 'CourseAccessRuleHistory',\n",
       " 'CourseAuthorization',\n",
       " 'CourseCohort',\n",
       " 'CourseCohortsSettings',\n",
       " 'CourseContentMilestone',\n",
       " 'CourseEmail',\n",
       " 'CourseEmailTemplate',\n",
       " 'CourseEnrollment',\n",
       " 'CourseEnrollmentAllowed',\n",
       " 'CourseEnrollmentAttribute',\n",
       " 'CourseMilestone',\n",
       " 'CourseMode',\n",
       " 'CourseModesArchive',\n",
       " 'CourseOverview',\n",
       " 'CourseRegCodeItem',\n",
       " 'CourseRegCodeItemAnnotation',\n",
       " 'CourseRegistrationCode',\n",
       " 'CourseRegistrationCodeInvoiceItem',\n",
       " 'CourseRerunState',\n",
       " 'CourseSoftware',\n",
       " 'CourseStructure',\n",
       " 'CourseTeam',\n",
       " 'CourseTeamMembership',\n",
       " 'CourseUserGroup',\n",
       " 'CourseUserGroupPartitionGroup',\n",
       " 'CourseVideo',\n",
       " 'CreditCourse',\n",
       " 'CreditEligibility',\n",
       " 'CreditProvider',\n",
       " 'CreditRequest',\n",
       " 'CreditRequirement',\n",
       " 'CreditRequirementStatus',\n",
       " 'Criterion',\n",
       " 'CriterionOption',\n",
       " 'CrontabSchedule',\n",
       " 'DarkLangConfig',\n",
       " 'DashboardConfiguration',\n",
       " 'Donation',\n",
       " 'DonationConfiguration',\n",
       " 'EmbargoedCourse',\n",
       " 'EmbargoedState',\n",
       " 'EncodedVideo',\n",
       " 'EntranceExamConfiguration',\n",
       " 'ExampleCertificate',\n",
       " 'ExampleCertificateSet',\n",
       " 'ExternalAuthMap',\n",
       " 'F',\n",
       " 'GeneratedCertificate',\n",
       " 'Grant',\n",
       " 'Group',\n",
       " 'HistoricalCreditRequest',\n",
       " 'HistoricalCreditRequirementStatus',\n",
       " 'IPFilter',\n",
       " 'In',\n",
       " 'InCourseReverificationConfiguration',\n",
       " 'InstructorTask',\n",
       " 'IntervalSchedule',\n",
       " 'Invoice',\n",
       " 'InvoiceHistory',\n",
       " 'InvoiceItem',\n",
       " 'InvoiceTransaction',\n",
       " 'LanguageProficiency',\n",
       " 'LinkedInAddToProfileConfiguration',\n",
       " 'LogEntry',\n",
       " 'LoginFailures',\n",
       " 'ManualEnrollmentAudit',\n",
       " 'Max',\n",
       " 'MigrationHistory',\n",
       " 'Milestone',\n",
       " 'MilestoneRelationshipType',\n",
       " 'Min',\n",
       " 'MobileApiConfig',\n",
       " 'ModuleStoreEnum',\n",
       " 'Nonce',\n",
       " 'Note',\n",
       " 'Notification',\n",
       " 'NotificationType',\n",
       " 'OfflineComputedGrade',\n",
       " 'OfflineComputedGradeLog',\n",
       " 'Optout',\n",
       " 'Order',\n",
       " 'OrderItem',\n",
       " 'Out',\n",
       " 'PaidCourseRegistration',\n",
       " 'PaidCourseRegistrationAnnotation',\n",
       " 'PasswordHistory',\n",
       " 'PeerWorkflow',\n",
       " 'PeerWorkflowItem',\n",
       " 'PendingEmailChange',\n",
       " 'PendingNameChange',\n",
       " 'PeriodicTask',\n",
       " 'PeriodicTasks',\n",
       " 'Permission',\n",
       " 'Profile',\n",
       " 'PsychometricData',\n",
       " 'PuzzleComplete',\n",
       " 'Q',\n",
       " 'RateLimitConfiguration',\n",
       " 'RefreshToken',\n",
       " 'Registration',\n",
       " 'RegistrationCodeRedemption',\n",
       " 'RestrictedCourse',\n",
       " 'ReusablePlugin',\n",
       " 'RevisionPlugin',\n",
       " 'RevisionPluginRevision',\n",
       " 'Role',\n",
       " 'Rubric',\n",
       " 'Score',\n",
       " 'ScoreSummary',\n",
       " 'ServerCircuit',\n",
       " 'Session',\n",
       " 'Settings',\n",
       " 'SimplePlugin',\n",
       " 'Site',\n",
       " 'SkippedReverification',\n",
       " 'SoftwareSecurePhotoVerification',\n",
       " 'SplashConfig',\n",
       " 'StudentFieldOverride',\n",
       " 'StudentItem',\n",
       " 'StudentModule',\n",
       " 'StudentModuleHistory',\n",
       " 'StudentTrainingWorkflow',\n",
       " 'StudentTrainingWorkflowItem',\n",
       " 'Submission',\n",
       " 'Subscription',\n",
       " 'Subtitle',\n",
       " 'Sum',\n",
       " 'SurveyAnswer',\n",
       " 'SurveyForm',\n",
       " 'TaskMeta',\n",
       " 'TaskSetMeta',\n",
       " 'TaskState',\n",
       " 'TrackingLog',\n",
       " 'TrainingExample',\n",
       " 'TrustedClient',\n",
       " 'URLPath',\n",
       " 'User',\n",
       " 'UserCourseTag',\n",
       " 'UserLicense',\n",
       " 'UserMilestone',\n",
       " 'UserOpenID',\n",
       " 'UserOrgTag',\n",
       " 'UserPreference',\n",
       " 'UserProfile',\n",
       " 'UserSignupSource',\n",
       " 'UserStanding',\n",
       " 'UserTestGroup',\n",
       " 'VerificationCheckpoint',\n",
       " 'VerificationStatus',\n",
       " 'Video',\n",
       " 'WorkerState',\n",
       " 'XBlockAsidesConfig',\n",
       " 'XBlockDisableConfig',\n",
       " 'XDomainProxyConfiguration',\n",
       " 'XModuleStudentInfoField',\n",
       " 'XModuleStudentPrefsField',\n",
       " 'XModuleUserStateSummaryField',\n",
       " '_',\n",
       " '_3',\n",
       " '_4',\n",
       " '__',\n",
       " '___',\n",
       " '__builtin__',\n",
       " '__builtins__',\n",
       " '__doc__',\n",
       " '__name__',\n",
       " '__package__',\n",
       " '_dh',\n",
       " '_i',\n",
       " '_i1',\n",
       " '_i2',\n",
       " '_i3',\n",
       " '_i4',\n",
       " '_i5',\n",
       " '_i6',\n",
       " '_i7',\n",
       " '_i8',\n",
       " '_i9',\n",
       " '_ih',\n",
       " '_ii',\n",
       " '_iii',\n",
       " '_oh',\n",
       " '_sh',\n",
       " 'cache',\n",
       " 'exit',\n",
       " 'get_ipython',\n",
       " 'quit',\n",
       " 'reverse',\n",
       " 'settings',\n",
       " 'timezone',\n",
       " 'transaction']"
      ]
     },
     "execution_count": 9,
     "metadata": {},
     "output_type": "execute_result"
    }
   ],
   "source": [
    "dir()"
   ]
  },
  {
   "cell_type": "code",
   "execution_count": null,
   "metadata": {
    "collapsed": true
   },
   "outputs": [],
   "source": []
  },
  {
   "cell_type": "code",
   "execution_count": null,
   "metadata": {
    "collapsed": true
   },
   "outputs": [],
   "source": []
  },
  {
   "cell_type": "code",
   "execution_count": null,
   "metadata": {
    "collapsed": true
   },
   "outputs": [],
   "source": []
  },
  {
   "cell_type": "code",
   "execution_count": 4,
   "metadata": {
    "collapsed": false
   },
   "outputs": [
    {
     "data": {
      "text/plain": [
       "['mongo', 'split']"
      ]
     },
     "execution_count": 4,
     "metadata": {},
     "output_type": "execute_result"
    }
   ],
   "source": [
    "#storetype, user, org, course, run = self.parse_args(*args)\n",
    "#storetype in [ModuleStoreEnum.Type.mongo, ModuleStoreEnum.Type.split]\n",
    "[ModuleStoreEnum.Type.mongo, ModuleStoreEnum.Type.split]"
   ]
  },
  {
   "cell_type": "code",
   "execution_count": null,
   "metadata": {
    "collapsed": true
   },
   "outputs": [],
   "source": [
    "#new_course = create_new_course_in_store(storetype, user, org, course, run, {})\n",
    "#self.stdout.write(u\"Created {}\".format(unicode(new_course.id)))\n",
    "#(modulestore, user, org, course, run)\n",
    "storetype = 'split'\n",
    "user = user_from_str"
   ]
  },
  {
   "cell_type": "code",
   "execution_count": 10,
   "metadata": {
    "collapsed": false
   },
   "outputs": [
    {
     "ename": "SyntaxError",
     "evalue": "invalid syntax (<ipython-input-10-82a60a36a22c>, line 1)",
     "output_type": "error",
     "traceback": [
      "\u001b[1;36m  File \u001b[1;32m\"<ipython-input-10-82a60a36a22c>\"\u001b[1;36m, line \u001b[1;32m1\u001b[0m\n\u001b[1;33m    edx(/bin/python.edxapp, /edx/app/edxapp/edx-platform/manage.py, cms, create_course, split, ww, murp, wwjtest, wwjtest, --settings=devstack)\u001b[0m\n\u001b[1;37m        ^\u001b[0m\n\u001b[1;31mSyntaxError\u001b[0m\u001b[1;31m:\u001b[0m invalid syntax\n"
     ]
    }
   ],
   "source": [
    "/edx/bin/python.edxapp /edx/app/edxapp/edx-platform/manage.py cms create_course split ww murp wwjtest wwjtest --settings=devstack"
   ]
  },
  {
   "cell_type": "code",
   "execution_count": 11,
   "metadata": {
    "collapsed": false
   },
   "outputs": [
    {
     "ename": "ImportError",
     "evalue": "No module named contentstore.management.commands.utils",
     "output_type": "error",
     "traceback": [
      "\u001b[1;31m---------------------------------------------------------------------------\u001b[0m",
      "\u001b[1;31mImportError\u001b[0m                               Traceback (most recent call last)",
      "\u001b[1;32m<ipython-input-11-c0eaa424943f>\u001b[0m in \u001b[0;36m<module>\u001b[1;34m()\u001b[0m\n\u001b[1;32m----> 1\u001b[1;33m \u001b[1;32mfrom\u001b[0m \u001b[0mcontentstore\u001b[0m\u001b[1;33m.\u001b[0m\u001b[0mmanagement\u001b[0m\u001b[1;33m.\u001b[0m\u001b[0mcommands\u001b[0m\u001b[1;33m.\u001b[0m\u001b[0mutils\u001b[0m \u001b[1;32mimport\u001b[0m \u001b[0muser_from_str\u001b[0m\u001b[1;33m\u001b[0m\u001b[0m\n\u001b[0m",
      "\u001b[1;31mImportError\u001b[0m: No module named contentstore.management.commands.utils"
     ]
    }
   ],
   "source": [
    "from contentstore.management.commands.utils import user_from_str"
   ]
  },
  {
   "cell_type": "code",
   "execution_count": null,
   "metadata": {
    "collapsed": true
   },
   "outputs": [],
   "source": [
    "#外部创建课程搞定，外部修改\n",
    "#为何edxapp ipython没有权限，env不同，一些东西导入不进来\n",
    "#sudo /edx/bin/python.edxapp /edx/app/edxapp/edx-platform/manage.py cms crerp wwjtest2 2016_01 --settings=aws"
   ]
  },
  {
   "cell_type": "code",
   "execution_count": null,
   "metadata": {
    "collapsed": true
   },
   "outputs": [],
   "source": []
  }
 ],
 "metadata": {
  "kernelspec": {
   "display_name": "Django Shell-Plus",
   "language": "python",
   "name": "django_extensions"
  },
  "language_info": {
   "codemirror_mode": {
    "name": "ipython",
    "version": 2
   },
   "file_extension": ".py",
   "mimetype": "text/x-python",
   "name": "python",
   "nbconvert_exporter": "python",
   "pygments_lexer": "ipython2",
   "version": "2.7.3"
  }
 },
 "nbformat": 4,
 "nbformat_minor": 0
}
